{
 "cells": [
  {
   "cell_type": "code",
   "execution_count": 3,
   "id": "8bb4a7fd-f8c0-4761-9314-5e30ce877345",
   "metadata": {},
   "outputs": [
    {
     "name": "stdout",
     "output_type": "stream",
     "text": [
      "apple\n",
      "banana\n",
      "cherry\n"
     ]
    }
   ],
   "source": [
    "# Que 1\n",
    "\"\"\"A \"for loop\" is used to iterate over a sequence (such as a list, tuple, or string) or a range of numbers. \n",
    "The \"for loop\" runs for a specific number of iterations and performs the same set of instructions on each iteration.\"\"\"\n",
    "#example\n",
    "fruits = [\"apple\", \"banana\", \"cherry\"]\n",
    "for fruit in fruits:\n",
    "  print(fruit)\n"
   ]
  },
  {
   "cell_type": "code",
   "execution_count": 4,
   "id": "5314b39c-fa15-4f46-a7f8-cdcf1a640098",
   "metadata": {},
   "outputs": [
    {
     "name": "stdout",
     "output_type": "stream",
     "text": [
      "0\n",
      "1\n",
      "2\n",
      "3\n",
      "4\n"
     ]
    }
   ],
   "source": [
    "\"\"\"A \"while loop\" is used to repeatedly execute a block of code as long as a condition is met. \n",
    "The condition is checked before each iteration and the loop continues to run until the condition is no longer satisfied.\"\"\"\n",
    "#example\n",
    "count = 0\n",
    "while count < 5:\n",
    "  print(count)\n",
    "  count += 1\n"
   ]
  },
  {
   "cell_type": "code",
   "execution_count": 9,
   "id": "d2a5b62f-ee34-4b89-b0ce-adc7f852a525",
   "metadata": {},
   "outputs": [
    {
     "name": "stdout",
     "output_type": "stream",
     "text": [
      "Sum of first 10 natural numbers: 55\n",
      "Product of first 10 natural numbers: 3628800\n"
     ]
    }
   ],
   "source": [
    "# Que 2\n",
    "# Using for loop\n",
    "sum = 0\n",
    "product = 1\n",
    "for i in range(1, 11):\n",
    "    sum += i\n",
    "    product *= i\n",
    "print(\"Sum of first 10 natural numbers:\", sum)\n",
    "print(\"Product of first 10 natural numbers:\", product)\n"
   ]
  },
  {
   "cell_type": "code",
   "execution_count": 10,
   "id": "ff0c1b73-fcaf-4a0c-b101-469d5c15b4a1",
   "metadata": {},
   "outputs": [
    {
     "name": "stdout",
     "output_type": "stream",
     "text": [
      "Sum of first 10 natural numbers: 55\n",
      "Product of first 10 natural numbers: 3628800\n"
     ]
    }
   ],
   "source": [
    "# Using while loop\n",
    "sum = 0\n",
    "product = 1\n",
    "i = 1\n",
    "while i <= 10:\n",
    "    sum += i\n",
    "    product *= i\n",
    "    i += 1\n",
    "print(\"Sum of first 10 natural numbers:\", sum)\n",
    "print(\"Product of first 10 natural numbers:\", product)\n"
   ]
  },
  {
   "cell_type": "code",
   "execution_count": 1,
   "id": "d79a3182-a534-457c-9e06-3b3c8f54eed5",
   "metadata": {},
   "outputs": [
    {
     "name": "stdin",
     "output_type": "stream",
     "text": [
      "Enter the unit consumed:  310\n"
     ]
    },
    {
     "name": "stdout",
     "output_type": "stream",
     "text": [
      "The bill is 2250.0\n"
     ]
    }
   ],
   "source": [
    "# Que 3\n",
    "units = int(input(\"Enter the unit consumed: \"))\n",
    "\n",
    "if units <= 100:\n",
    "    bill = unit * 4.5\n",
    "    print(\"The bill is\", cost)\n",
    "elif units > 100 and units <= 200:\n",
    "    bill = 100 * 4.5 + (units-100) * 6\n",
    "    print(\"The bill is\",bill)\n",
    "elif units < 200 and units <= 300:\n",
    "    bill = 100 * 4.5 + 100 * 6 + (units-200) * 10\n",
    "    print(\"The bill is\",bill)\n",
    "else:\n",
    "    bill = 100 * 4.5 + 100 * 6 + 100 * 10 + (units-300) * 20\n",
    "    print(\"The bill is\",bill)"
   ]
  },
  {
   "cell_type": "code",
   "execution_count": 1,
   "id": "6615070c-3d20-4767-aa5f-8a80238bbca7",
   "metadata": {},
   "outputs": [
    {
     "name": "stdout",
     "output_type": "stream",
     "text": [
      "Numbers list [2, 4, 5, 6, 8, 10, 12, 14, 15, 16, 18, 20, 22, 24, 25, 26, 28, 30, 32, 34, 35, 36, 38, 40, 42, 44, 45, 46, 48, 50, 52, 54, 55, 56, 58, 60, 62, 64, 65, 66, 68, 70, 72, 74, 75, 76, 78, 80, 82, 84, 85, 86, 88, 90, 92, 94, 95, 96, 98, 100]\n"
     ]
    }
   ],
   "source": [
    "# Que 4\n",
    "#usuing for loop\n",
    "a = []\n",
    "for i in range(1, 101):\n",
    "    cube = i**3\n",
    "    if cube % 4 == 0 or cube % 5 == 0:\n",
    "        a.append(i)\n",
    "\n",
    "print(\"Numbers list\", a)"
   ]
  },
  {
   "cell_type": "code",
   "execution_count": 2,
   "id": "0ea69580-393c-48ed-945c-ed019cdea4f1",
   "metadata": {},
   "outputs": [
    {
     "name": "stdout",
     "output_type": "stream",
     "text": [
      "Numbers list [2, 4, 5, 6, 8, 10, 12, 14, 15, 16, 18, 20, 22, 24, 25, 26, 28, 30, 32, 34, 35, 36, 38, 40, 42, 44, 45, 46, 48, 50, 52, 54, 55, 56, 58, 60, 62, 64, 65, 66, 68, 70, 72, 74, 75, 76, 78, 80, 82, 84, 85, 86, 88, 90, 92, 94, 95, 96, 98, 100]\n"
     ]
    }
   ],
   "source": [
    "#usuing while loop\n",
    "b = []\n",
    "i = 1\n",
    "while i <= 100:\n",
    "    cube = i**3\n",
    "    if cube % 4 == 0 or cube % 5 == 0:\n",
    "        b.append(i)\n",
    "    i += 1\n",
    "\n",
    "print(\"Numbers list\", b)"
   ]
  },
  {
   "cell_type": "code",
   "execution_count": 3,
   "id": "88a34335-3e4c-49e3-9c63-ec340ee89442",
   "metadata": {},
   "outputs": [
    {
     "name": "stdout",
     "output_type": "stream",
     "text": [
      "Number of vowels in the given string: 12\n"
     ]
    }
   ],
   "source": [
    "# Que 5\n",
    "string = \"I want to become a data scientist\"\n",
    "vowels = \"aeiouAEIOU\"\n",
    "count = 0\n",
    "\n",
    "i = 0\n",
    "while i < len(string):\n",
    "    if string[i] in vowels:\n",
    "        count += 1\n",
    "    i += 1\n",
    "\n",
    "print(\"Number of vowels in the given string:\", count)\n"
   ]
  },
  {
   "cell_type": "code",
   "execution_count": null,
   "id": "e580216a-9859-4fff-a8eb-4d43dcd7ee3e",
   "metadata": {},
   "outputs": [],
   "source": []
  }
 ],
 "metadata": {
  "kernelspec": {
   "display_name": "Python 3 (ipykernel)",
   "language": "python",
   "name": "python3"
  },
  "language_info": {
   "codemirror_mode": {
    "name": "ipython",
    "version": 3
   },
   "file_extension": ".py",
   "mimetype": "text/x-python",
   "name": "python",
   "nbconvert_exporter": "python",
   "pygments_lexer": "ipython3",
   "version": "3.10.8"
  }
 },
 "nbformat": 4,
 "nbformat_minor": 5
}
